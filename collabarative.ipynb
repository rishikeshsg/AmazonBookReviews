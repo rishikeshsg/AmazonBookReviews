{
 "cells": [
  {
   "cell_type": "code",
   "execution_count": 42,
   "metadata": {
    "collapsed": true
   },
   "outputs": [],
   "source": [
    "import gzip\n",
    "from collections import defaultdict\n",
    "import random\n",
    "\n",
    "def readGz(f):\n",
    "\tfor l in gzip.open(f):\n",
    "\t\tyield eval(l)\n",
    "\n",
    "def norm2(a,b):\n",
    "\tnorm = 0\n",
    "\tfor i in range(len(a)):\n",
    "\t\tnorm += pow((a[i]-b[i]),2)\n",
    "\treturn norm\n",
    "\n",
    "def inner(x,y):\n",
    "\treturn sum([x[i]*y[i] for i in range(len(x))])\n"
   ]
  },
  {
   "cell_type": "code",
   "execution_count": 43,
   "metadata": {
    "collapsed": false
   },
   "outputs": [
    {
     "name": "stdout",
     "output_type": "stream",
     "text": [
      "Reading Data...\n",
      "0\n",
      "100000\n",
      "200000\n",
      "300000\n",
      "400000\n",
      "500000\n",
      "600000\n",
      "700000\n",
      "800000\n",
      "Done\n",
      "35736\n",
      "37801\n",
      "900000\n",
      "35736\n",
      "37801\n"
     ]
    }
   ],
   "source": [
    "itemIDmap = defaultdict(int)\n",
    "userIDmap = defaultdict(int)\n",
    "Iu = defaultdict(list)\n",
    "Ui = defaultdict(list)\n",
    "uid = 0\n",
    "iid = 0\n",
    "Ratings = defaultdict(float)\n",
    "\n",
    "print \"Reading Data...\"\n",
    "iter = 0\n",
    "for l in readGz(\"R:/UCSD/Fall'15/CSE 255/Assignment 1/assignment1/train_900000.json.gz\"):\n",
    "\tif l == \"\":\n",
    "\t\tcontinue\n",
    "\tif iter % 100000 == 0:\n",
    "\t\tprint iter\n",
    "\tuser,item = l['reviewerID'],l['itemID']\n",
    "\tRatings[(user,item)] = l['rating']\n",
    "\tIu[user].append(item)\n",
    "\tUi[item].append(user)\n",
    "\tif user not in userIDmap:\n",
    "\t\tuserIDmap[user] = uid\n",
    "\t\tuid += 1\n",
    "\tif item not in itemIDmap:\n",
    "\t\titemIDmap[item] = iid\n",
    "\t\tiid += 1\n",
    "\titer += 1\n",
    "print \"Done\"\n",
    "print len(Iu)\n",
    "print len(Ui)\n",
    "print len(Ratings)\n",
    "print len(userIDmap)\n",
    "print len(itemIDmap)\n"
   ]
  },
  {
   "cell_type": "code",
   "execution_count": 44,
   "metadata": {
    "collapsed": true
   },
   "outputs": [],
   "source": [
    "Ratings_back = Ratings.copy()"
   ]
  },
  {
   "cell_type": "code",
   "execution_count": 54,
   "metadata": {
    "collapsed": true
   },
   "outputs": [],
   "source": [
    "Ratings = Ratings_back.copy()"
   ]
  },
  {
   "cell_type": "code",
   "execution_count": 66,
   "metadata": {
    "collapsed": true
   },
   "outputs": [],
   "source": [
    "avg = defaultdict(int)\n",
    "\n",
    "for i in Ui:\n",
    "    sum_i = sum([Ratings[(u,i)] for u in Ui[i]])\n",
    "    avg[i] = sum_i*1.0/len(Ui[i])\n",
    "    for u in Ui[i]:\n",
    "        Ratings[(u,i)] -= avg[i]"
   ]
  },
  {
   "cell_type": "code",
   "execution_count": 67,
   "metadata": {
    "collapsed": false
   },
   "outputs": [
    {
     "name": "stdout",
     "output_type": "stream",
     "text": [
      "[0.7105263157894735, 0.7105263157894735, 0.7105263157894735, -1.2894736842105265, 0.7105263157894735, 0.7105263157894735, 0.7105263157894735, 0.7105263157894735, -1.2894736842105265, 0.7105263157894735, 0.7105263157894735, -1.2894736842105265, -0.28947368421052655, 0.7105263157894735, 0.7105263157894735, -2.2894736842105265, -0.28947368421052655, 0.7105263157894735, -0.28947368421052655, -0.28947368421052655, -0.28947368421052655, -0.28947368421052655, 0.7105263157894735, -0.28947368421052655, -0.28947368421052655, 0.7105263157894735, -0.28947368421052655, 0.7105263157894735, -0.28947368421052655, -1.2894736842105265, 0.7105263157894735, -2.2894736842105265, 0.7105263157894735, -0.28947368421052655, -0.28947368421052655, 0.7105263157894735, 0.7105263157894735, -0.28947368421052655]\n",
      "0.710526315789\n",
      "5.0\n"
     ]
    }
   ],
   "source": [
    "print [Ratings[(u,'I939598332')] for u in Ui['I939598332']]\n",
    "#[Ratings[u,'I939598332'] for u in Ui['I939598332']]\n",
    "print Ratings[('U264510815', 'I939598332')]\n",
    "print Ratings_back[('U264510815', 'I939598332')]"
   ]
  },
  {
   "cell_type": "code",
   "execution_count": 68,
   "metadata": {
    "collapsed": true
   },
   "outputs": [],
   "source": [
    "def f(Ratings, theta, x, lam):\n",
    "    obj = 0\n",
    "    for r in Ratings:\n",
    "        obj += pow((Ratings[r] - inner(theta[r[0]], x[r[1]])),2)\n",
    "    obj /= 2.0\n",
    "    lamx = 0\n",
    "    for i in x:\n",
    "        lamx += sum([pow(x[i][k],2) for k in range(len(x[i]))])\n",
    "    lamx *= lam/2.0\n",
    "    lamt = 0\n",
    "    for i in theta:\n",
    "        lamt += sum([pow(theta[i][k],2) for k in range(len(theta[i]))])\n",
    "    lamt *= lam/2.0\n",
    "    return obj+lamx+lamt"
   ]
  },
  {
   "cell_type": "code",
   "execution_count": 69,
   "metadata": {
    "collapsed": true
   },
   "outputs": [],
   "source": [
    "def update_x(Ratings, theta, x, lam, alpha):\n",
    "    for i in x:\n",
    "        temp_x = [0]*len(x[i])\n",
    "        for k in x[i]:\n",
    "            temp_x[k] = sum([(Ratings[(u,i)] - inner(theta[u], x[i]))*theta[u][k] for u in Ui[i]]) + lam*x[i][k]\n",
    "        x[i] = x[i] - alpha*temp_x\n",
    "    return x[i]"
   ]
  },
  {
   "cell_type": "code",
   "execution_count": 70,
   "metadata": {
    "collapsed": true
   },
   "outputs": [],
   "source": [
    "def update_theta(Ratings, theta, x, lam, alpha):\n",
    "    for u in theta:\n",
    "        temp_t = [0]*len(theta[u])\n",
    "        for k in theta[u]:\n",
    "            temp_t[k] = sum([(Ratings[(u,i)] - inner(theta[u], x[i]))*x[i][k] for i in Iu[u]]) + lam*theta[u][k]\n",
    "        theta[u] = theta[u] - alpha*temp_u\n",
    "    return theta[i]"
   ]
  },
  {
   "cell_type": "code",
   "execution_count": 71,
   "metadata": {
    "collapsed": true
   },
   "outputs": [],
   "source": [
    "def get_vec(theta, x):\n",
    "    vec = [0]*(2*len(theta))\n",
    "    for u in theta:\n",
    "        vec[userIDmap[u]] = theta[u]\n",
    "    for i in x:\n",
    "        vec[itemIDmap[i]] = x[i]\n",
    "    return vec"
   ]
  },
  {
   "cell_type": "code",
   "execution_count": 72,
   "metadata": {
    "collapsed": true
   },
   "outputs": [],
   "source": [
    "flen = 3\n",
    "x = defaultdict(list)\n",
    "theta = defaultdict(list)\n",
    "for i in itemIDmap:\n",
    "    x[i] = [random.random() for k in range(flen)]\n",
    "\n",
    "for u in userIDmap:\n",
    "    theta[u] = [random.random() for k in range(flen)]"
   ]
  },
  {
   "cell_type": "code",
   "execution_count": null,
   "metadata": {
    "collapsed": true
   },
   "outputs": [],
   "source": [
    "iter = 0\n",
    "lam = 5\n",
    "alpha = 0.002\n",
    "prev_J = f(Ratings, theta, x, lam)\n",
    "while 1:\n",
    "    x = update_x(Ratings, theta, x, lam, alpha)\n",
    "    theta = update_theta(Ratings, theta, x, lam, alpha)\n",
    "    J = f(Ratings, theta, x, lam)\n",
    "    iter += 1\n",
    "    if J == prev_J or J - prev_J < 1e-10 or iter == 500:\n",
    "        break\n",
    "mse = 0\n",
    "    gui = ()\n",
    "    for l in lst:\n",
    "        u,i = l['reviewerID'],l['itemID']\n",
    "        rate = l['rating']\n",
    "        predict = inner(theta[u],x[i]) + avg[i]\n",
    "        mse += pow((predict - rate),2)\n",
    "    print (lam,mse/(len(lst)))"
   ]
  }
 ],
 "metadata": {
  "kernelspec": {
   "display_name": "Python 2",
   "language": "python",
   "name": "python2"
  },
  "language_info": {
   "codemirror_mode": {
    "name": "ipython",
    "version": 2
   },
   "file_extension": ".py",
   "mimetype": "text/x-python",
   "name": "python",
   "nbconvert_exporter": "python",
   "pygments_lexer": "ipython2",
   "version": "2.7.10"
  }
 },
 "nbformat": 4,
 "nbformat_minor": 0
}
